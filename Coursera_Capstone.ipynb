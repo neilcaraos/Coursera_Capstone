{
 "cells": [
  {
   "cell_type": "markdown",
   "id": "835ae8a7",
   "metadata": {},
   "source": [
    "# IBM Coursera Capstone Project"
   ]
  },
  {
   "cell_type": "markdown",
   "id": "6abf691c",
   "metadata": {},
   "source": [
    "This project will be looking at the neighborhoods at Toronto, Canada."
   ]
  },
  {
   "cell_type": "code",
   "execution_count": 1,
   "id": "3fc5a24d",
   "metadata": {},
   "outputs": [],
   "source": [
    "import numpy as np\n",
    "import pandas as pd"
   ]
  },
  {
   "cell_type": "code",
   "execution_count": 2,
   "id": "7d95f4ba",
   "metadata": {},
   "outputs": [
    {
     "name": "stdout",
     "output_type": "stream",
     "text": [
      "Hello Capstone Project Course!\n"
     ]
    }
   ],
   "source": [
    "print('Hello Capstone Project Course!')"
   ]
  },
  {
   "cell_type": "code",
   "execution_count": null,
   "id": "c1d60cc8",
   "metadata": {},
   "outputs": [],
   "source": []
  }
 ],
 "metadata": {
  "kernelspec": {
   "display_name": "Python 3",
   "language": "python",
   "name": "python3"
  },
  "language_info": {
   "codemirror_mode": {
    "name": "ipython",
    "version": 3
   },
   "file_extension": ".py",
   "mimetype": "text/x-python",
   "name": "python",
   "nbconvert_exporter": "python",
   "pygments_lexer": "ipython3",
   "version": "3.9.2"
  }
 },
 "nbformat": 4,
 "nbformat_minor": 5
}
